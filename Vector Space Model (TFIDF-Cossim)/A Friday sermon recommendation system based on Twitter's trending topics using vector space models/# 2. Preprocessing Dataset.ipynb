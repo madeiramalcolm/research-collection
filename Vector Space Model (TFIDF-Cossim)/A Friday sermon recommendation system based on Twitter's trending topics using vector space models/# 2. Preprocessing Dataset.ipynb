{
 "cells": [
  {
   "cell_type": "markdown",
   "metadata": {},
   "source": [
    "# Import Library"
   ]
  },
  {
   "cell_type": "code",
   "execution_count": 2,
   "metadata": {},
   "outputs": [],
   "source": [
    "import pandas as pd\n",
    "import numpy as np\n",
    "import numpy.linalg as LA\n",
    "import string\n",
    "\n",
    "from openpyxl import load_workbook\n",
    "from sklearn.metrics.pairwise import cosine_similarity\n",
    "from nltk.corpus import stopwords\n",
    "from nltk.stem import PorterStemmer\n",
    "from Sastrawi.StopWordRemover.StopWordRemoverFactory import StopWordRemoverFactory\n",
    "from Sastrawi.Stemmer.StemmerFactory import StemmerFactory \n",
    "\n",
    "stemmer = StemmerFactory().create_stemmer()\n",
    "remover = StopWordRemoverFactory().create_stop_word_remover()\n",
    "translator = str.maketrans('', '', string.punctuation)"
   ]
  },
  {
   "cell_type": "markdown",
   "metadata": {},
   "source": [
    "# Load Dataset Khotbah"
   ]
  },
  {
   "cell_type": "code",
   "execution_count": 5,
   "metadata": {},
   "outputs": [
    {
     "data": {
      "text/html": [
       "<div>\n",
       "<style scoped>\n",
       "    .dataframe tbody tr th:only-of-type {\n",
       "        vertical-align: middle;\n",
       "    }\n",
       "\n",
       "    .dataframe tbody tr th {\n",
       "        vertical-align: top;\n",
       "    }\n",
       "\n",
       "    .dataframe thead th {\n",
       "        text-align: right;\n",
       "    }\n",
       "</style>\n",
       "<table border=\"1\" class=\"dataframe\">\n",
       "  <thead>\n",
       "    <tr style=\"text-align: right;\">\n",
       "      <th></th>\n",
       "      <th>Dokumen</th>\n",
       "      <th>Link</th>\n",
       "    </tr>\n",
       "  </thead>\n",
       "  <tbody>\n",
       "    <tr>\n",
       "      <th>0</th>\n",
       "      <td>Kekeliruan Dalam Masalah Syarat Sah Shalat Iba...</td>\n",
       "      <td>https://khotbahjumat.com/5254-kekeliruan-dalam...</td>\n",
       "    </tr>\n",
       "    <tr>\n",
       "      <th>1</th>\n",
       "      <td>Allah Maha Mengetahui Apa Yang Kita Kerjakan K...</td>\n",
       "      <td>https://khotbahjumat.com/5251-allah-maha-menge...</td>\n",
       "    </tr>\n",
       "    <tr>\n",
       "      <th>2</th>\n",
       "      <td>Kedudukan Ulama di Tengah Masyarakat Diantara ...</td>\n",
       "      <td>https://khotbahjumat.com/5232-kedudukan-ulama-...</td>\n",
       "    </tr>\n",
       "    <tr>\n",
       "      <th>3</th>\n",
       "      <td>Pemimpin Yang Menyesatkan Ibadallah, Kita hidu...</td>\n",
       "      <td>https://khotbahjumat.com/5223-pemimpin-yang-me...</td>\n",
       "    </tr>\n",
       "    <tr>\n",
       "      <th>4</th>\n",
       "      <td>Dzikir Mengingat Allah Menguatkan Jiwa dan Rag...</td>\n",
       "      <td>https://khotbahjumat.com/5213-berdzikir-mengin...</td>\n",
       "    </tr>\n",
       "  </tbody>\n",
       "</table>\n",
       "</div>"
      ],
      "text/plain": [
       "                                             Dokumen  \\\n",
       "0  Kekeliruan Dalam Masalah Syarat Sah Shalat Iba...   \n",
       "1  Allah Maha Mengetahui Apa Yang Kita Kerjakan K...   \n",
       "2  Kedudukan Ulama di Tengah Masyarakat Diantara ...   \n",
       "3  Pemimpin Yang Menyesatkan Ibadallah, Kita hidu...   \n",
       "4  Dzikir Mengingat Allah Menguatkan Jiwa dan Rag...   \n",
       "\n",
       "                                                Link  \n",
       "0  https://khotbahjumat.com/5254-kekeliruan-dalam...  \n",
       "1  https://khotbahjumat.com/5251-allah-maha-menge...  \n",
       "2  https://khotbahjumat.com/5232-kedudukan-ulama-...  \n",
       "3  https://khotbahjumat.com/5223-pemimpin-yang-me...  \n",
       "4  https://khotbahjumat.com/5213-berdzikir-mengin...  "
      ]
     },
     "execution_count": 5,
     "metadata": {},
     "output_type": "execute_result"
    }
   ],
   "source": [
    "dat = pd.read_excel(\"datasetskripsi.xlsx\")\n",
    "data = dat[:5]\n",
    "data"
   ]
  },
  {
   "cell_type": "markdown",
   "metadata": {},
   "source": [
    "# Custom Libraries"
   ]
  },
  {
   "cell_type": "code",
   "execution_count": 6,
   "metadata": {},
   "outputs": [],
   "source": [
    "def stemmerEN(text):\n",
    "    porter = PorterStemmer()\n",
    "    stop = set(stopwords.words('english'))\n",
    "    text = text.lower()\n",
    "    text = [i for i in text.lower().split() if i not in stop]\n",
    "    text = ' '.join(text)\n",
    "    preprocessed_text = text.translate(translator)\n",
    "    text_stem = porter.stem(preprocessed_text)\n",
    "    return text_stem\n",
    "\n",
    "def preprocess(text):\n",
    "    text = text.lower()\n",
    "    text_clean = remover.remove(text)\n",
    "    text_stem = stemmer.stem(text_clean)\n",
    "    text_stem = stemmerEN(text_stem)\n",
    "    return text_stem"
   ]
  },
  {
   "cell_type": "markdown",
   "metadata": {},
   "source": [
    "# Preprocessing"
   ]
  },
  {
   "cell_type": "code",
   "execution_count": 7,
   "metadata": {},
   "outputs": [
    {
     "data": {
      "text/plain": [
       "['keliru masalah syarat sah shalat ibadallah sungguh wajib islam wahyu nabi shallallahu alaihi wa sallam semua lalu antara shalat allah hendak wajib shalat umat nabi shallallahu alaihi wa sallam mi rajkan beliau tuju tempat paling tinggi pernah capai orang makhluk pernah yang masuk malaikat capai duduk tinggi sebut tempat tinggi sebut rasulullah dengar suara gores pena catat takdir tunjuk betapa pentingya masalah shalat shalat rukun islam penting sifat amal shalat lebih utama zakat puasa haji baitullah alharam allah tolong kerja shalat kekhusyuan hati sesuai gerak anggota badan sesuai contoh nabi shallallahu alaihi wa sallam ibadallah shalat terima penuh rukun syarat antara syarat sah shalat adalah syarat pertama hadap kiblat allah subhanahu wa ta ala firman paling muka arah masjidil haram mana kamu ada paling muka arah quran albaqarah 144 riwayat abu hurairah radhiallahu anhu nabi shallallahu alaihi wa sallam kata orang jelek shalatnya jika engkau hendak shalat ambi wudhu lalu hadap kiblat takbir hr bukhari muslim dalil atas tunjuk hadap kiblat rupa syarat antara syarat sah shalat sah shalat orang hadap kiblat diketauhi maksud hadap kiblat arah bukan persis hadap benda riwayat umar radhiallahu anhu bentang tangan kanan kiri kemudian kata shalatlah antara dua arah demikian terlalu saklek masalah kibalat maksud hadap bukan hadap benda arah arah kiblat allah ta ala firman paling muka arah masjidil haram quran albaqarah 144 maksud arah masjidil haram laku jauh ka bah lihat adapun dekat lihat ka bah wajib hadap benda ka bah ini sepakat ulama syarat dua masuk waktu masuk waktu shalat rupa syarat sah shalat allah subhanahu wa ta ala firman sungguh shalat fardhu tentu waktu atas orang iman quran annisa 103 siapa shalat masuk waktu shalat sah shalatnya siapa sengaja akhir shalat udzur akhir hingga keluar waktu jatuh salah satu dosa besar allah subhanahu wa ta ala firman maka datang mereka ganti yang jelek sia shalat turut hawa nafsu kelak temu sesat quran maryam 59 ada orang tanya saad bin abu waqqash radhiallahu anhu apakah orang tinggal shalat beliau jawab kalau tinggal kufur orang akhir shalat hingga keluar waktu ghay nama buah lembah neraka jahannam demikian masalah shalat rupa masalah sangat serius kerja shalat luar waktu rupa dosa besar lihat betapa banyak kaum muslimin sepele syarat sah shalat ini kasihan sekali telah jatuh dosa besar kasihan sekali mereka telah tantang kuasa semesta alam ancam masuk lembah jahannam apa cegah kerja shalat waktu padahal shalat habis waktu banyak mugkin puluh menit apak halang anda masuk waktu shalat segera berwudhu tunduk tunai diri hadap allah lomba segera urus agama kita apa buat lebih lomba urus dunia akhirat malas padahal akhirat lebih baik lebih kekal apabila datang waktu shalat lihat orang akhir kerja malas tunai sia sedikit sekali semangat kerja mohon allah beri taufik hidayah semua masalah ini syarat tiga tutup aurat allah subhanahu wa ta ala firman hai anak adam pakai pakai indah tiap pasuk masjid quran ala raf 31 tutup aurat rupa syarat sah shalat laki batas aurat antara pusar lutut wajib tutup pudaknya jelas hadits riwayat albukhari muslim abu hurairah radhiallahu anhu nabi shallallahu alaihi wa sallam sabda jangan kalian shalat satu kain pundak kalian tutup firman allah ta ala hai anak adam pakai pakai indah quran ala raf 31 maksud ayat bukan sekadar tutup aurat saja perintah kena pakai indah pakai baik sedang diri hadap kuasa alam semesta kuasa langit bumi allah anda undang acara nikah bagaimana cara tampil indah anda ada jadwal temu para jabat bagaimana indah diri lalu bagaimana shalat diri hadap kuasa alam semesta nyata bagi orang shalat malah kena pakai ia guna tidur pakai bersih bau bawang putih bawang merah dll semua rupa keliru shalat allah subhanahu wa ta ala tuntun hai anak adam pakai pakai indah tiap pasuk masjid quran ala raf 31 hadits riwayat albukhari muslim ibnu umar nabi shallallahu alaihi wa sallam sabda apabila salah orang antara kalian shalat jangan ludah arah depan allah ada hadap orang sedang shalat laa ilaaha illallaah hadap allah pakai kotor bau tanda lemah iman mohon allah baik ada beri taufik untuk amal tuntun jadi masuk orang tampil baik shalat mana kita sedang diri hadap allah rabb alam semesta syarat tiga hilang najis siapa shalat pakai dapat najis sah shalatnya allah ta ala firman dan pakai sih quran almudatsir 4 salah satu tafsir ayat adalah sih pakai hal najis shahih albukhari muslim dapat riwayat asma radhiallahu anha nabi shallallahu alaihi wa sallam sabda pakai dapat darah haid gosok kerik pakai sebut air lalu percik kemudian shalatlah dengan sah shalat orang pakai dapat najis itu hendak orang perhati ecek pakai dapat najis tidak baik najis darah haid madzi air kencing jenis najis lain shahih albukhari muslim abdullah bin abbas radhiallahu anhuma nabi shallallahu alaihi wa sallam pernah lewat kubur kemudian beliau sabda sungguh dua sedang siksa mereka siksa bukan perkara besar dalam pandang dua salah satu dua orang ini masa hidup tidak jaga diri kencing satu lagi keliling tebar namiimah adu domba kita waspada banyak setan masuk timbul waswas pada diri anak adam lalu pintu najis ini ya kita wajib hilang najis kita wajib jadi orang muslim bersih itu tapi kita juga harus waspada tutup pintu setan lalu masalah ini sehingga mereka tidak mampu beri waswas kita masalah najis syarat lima suci hadats kecil besar riwayat albukhari muslim hadits abu hurairah radhiallahu anhu rasulullah shallallahu alaihi wa sallam sabda allah tidak terima shalat kalian apabila berhadats ia berwudhu riwayat muslim hadits ibnu umar radhiallahu anhuma nabi shallallahu alaihi wa sallam sabda allah tidak terima shalat suci hr muslim saudara sekali hendak kita perhati perkara ini jangan orang shalat suci lebih dahulu baik suci hadats kecil wudhu maupun hadats besar mandir khutbah dua syarat enam niat riwayat albukhari muslim hadits umar bin alkhattab radhiallahu anhu nabi shallallahu alaihi wa sallam sabda sungguh amal gantung niat masingmasing orang dapat apa ia niat niat tempat hati melafadzkan ucap ulang tidak syariat ini tidak pernah laku generasi baik umat ini bagi orang apabila hendak berwudhu mereka kata allahumma inni nawaitu atawadha apabila hendak shalat mereka kata allahumma inni nawaitu ushalli ini semua rupa buat tidak tuntun allah rasul ibadallah anda melafadzkan niat jahar ulang cinta allah pasti akan laku rasulullah shallallahu alaihi wa sallam para sahabat nyata kita tidak dapat haditshadits lafadz niat nabi shallallahu alaihi wa sallam saudara sekali masalah syarat sah shalat ini cakup lailaki perempuan yang beda adalah dalam masalah tutup aurat wanita wajib tutup kepala bagaimana jelas dalam buah riwayat aisyah ali bin abu thalib dua tanya aurat perempuan shalat dua jawab perempuan shalat khimar jilbab kain yang panjang demikian wajib kaum perempuan untuk tutup kepala shalat dengan jilbab ia tutup adapun wajah dalam shalatnya wajah bukan aurat orang perempuan adapun dua telapak tangan perempuan bukan masuk aurat dua kaki adalah aurat hal ini fatwa ummul mukminin aisyah radhiallahu anha ali bin abu thalib radhiallahu anhu kena kain panjang ucap ini tunjuk tutup dua kaki kaki di sini adalah bagi luar maupun dalam ibadallah mudah allah ta ala baik shalat kita baik dalam penjagaann waktu aurat bersih suci dan tata cara moga dengan baik shalat kita baik amal kita yang lain',\n",
       " 'allah maha tahu apa kerja khotib wasiat diri khotib pribadi jamaah sekali senantiasa takwa allah jalla wa ala takwa dapat selamat keburu musibah dunia maupun akhirat ibadallah antara nama allah jalla wa ala arraqib yang maha awas allah tabaraka wa ta ala firman sungguh allah selalu jaga awas kamu quran annisa 1 firman jalla wa ala dan allah maha awas segala sesuatu quran alahzab 52 dia allah subhanahu wa ta ala maha awas tahu segala hati manusia beri balas apa usaha manusia maha jaga luput dari tahu semua ada makhluk lihat ada hitung amal buat mereka kalau makna benar tancap hati orang kokoh yakin hati dawamnya ilmu allah diri allah tahu ada acara zahir maupun batin kemudian lahir yakin mantap allah maha awas lihat ada dengar ucap awas gerakgeriknya waktu saat bahkan tiap kedip mata ibadallah muroqobah sifat rasa awas allah orang rupa bentuk ibadah allah amal sesuai konsekuensi nama sifat allah arraqib maha awas alhafizh maha jaga alalim maha tahu almuhith ilmu liput segala sesuatu alkhobir maha abar buat hamba allathif maha lembut tahu sedetildetilnya dia allah saksi segala sesuatu dengar segala suara baik lirih atau lantang lihat segala apa ada baik detil maupun global besar maupun kecil dia maha dekat tiap orang ilmu siapa renung nama allah maha indah ini kemudian amal konsekuensi benar rasa awas buat diri hati senantiasa jaga benar jauh hal bahaya ibadallah wajib orang hamba hidup dunia tata hati senantiasa rasa awas allah azza wa jalla jangan paling selain allah jangan rasa takut pada senantiasa jaga perintah allah jalla wa ala jauh larang orang rasa awas lihat allah malu penciptannya agung takut cinta tunduk rendah diri kepada ibadallah baik dunia akhirat gapai asa rasa awas allah ini jaga ibadah atas sunnah nabi serta ikhlas ibadah sebut hanya allah subhanahu wa ta ala sungguh allah satu sembunyi bumi tidak pula di langit quran ali imran 5 firman dan tahu bahwasanya allah tahu apa hati takut kepada quran albaqarah 235 asyiral muslimin rasa awas allah muroqobatullah jalla wa la buat orang hamba muhasabah hitung diri bentuk realisasi firman allah subhanahu wa ta ala hai orang iman takwa allah hendak tiap diri perhati apa telah buat hari esok akhirat takwa allah sungguh allah maha tahu apa kamu kerja quran alhasyr 18 ibnul qayyim rahimahullah kata hendak orang perhati apa telah buat hidup akhirat buat amal shaleh lat amal keburu binasa celaka kemudian beliau kata baik hati wujud muhasabah diri rusak hati remeh sia asyiral muslimin sungguh rasa awas allah hakiki bawa orang sungguh taat pisah diri segala sesuatu tentang perintah allah milik langit bumi bagaimana firman allah ta ala maka kenan doa kami anugerah nya yahya kami jadi isterinya kandung sungguh adalah orang selalu segera kerja buat baik doa kami harap cemas adalah orang khusyu kami quran alanbiya 90 orang mukmin wajib senantiasa rasa awas allah ibadah ia laku penuh taat pada ikhlas sempurna laksana harap pahala dari sikap larang tunduk rasa takut pada orang takut harap allah ini allah ta ala firman dan orang takut saat hadap tuhan ada surga quran arrahman 46 firman dan adapun orang takut besar tuhan tahan diri ingin hawa nafsu sungguh surga tempat tinggal nya quran annaziat 4041 ibnul jauzi kata tahu allah lebih dekat urat leher orang beliau lanjut hati orang tidak kenal allah akan rasa jauh sesuatu dekat itu laku maksiat kalau rasa allah awas dekat lihat pasti henti laku salah dosa ada orang tanya salah orang salaf dengan siapa aku minta untuk tunduk pandang ia kata dengan ilmu lihat maha lihat kepada lebih cepat banding lihat sesuatu kau lihat juga ingat sabda nabi shallallahu alaihi wa sallam ada tujuh golong akan naung allah naung arsynya hari tidak ada naung hanya naung semata adalah pimpin adil pemuda tumbuh besar ibadah rabbnya orang hati senantiasa paut masjid dua orang saling cinta allah dua kumpul pisah karena allah orang laki ajak zina orang wanita keduduk cantik lalu kata sungguh aku takut allah orang sedekah lalu rahasia tangan kiri tidak tahu apa sedekah tangan kanan orang berdzikir allah di waktu sunyi lalu lang air mata hadits shahih riwayat albukhari muslim rasa awas allah jalla wa ala bantu orang jauh buat dosa hal haram bersih hati semua hal rusak individu baik bentuk masyarakat baik masyarakat perintah allah jalla wa ala firman dan orang iman lelaki perempuan sebahagian adalah jadi tolong sebahagian lain suruh kerja ruf cegah munkar diri shalat tunai zakat taat allah rasul itu akan beri rahmat allah sungguh allah maha perkasa maha bijaksana quran attaubah 71 rasa awas allah jalla wa ala akan tumbuh masyarakat bersih hal rendah bersih kriminalitas generasi muda hias akhlak mulia hidup hidup yang damai saling tolong baik takwa mereka pegang teguh dengan tali allah satu di atas kalimat allah jauh kelompok jauh paham yang ekstrim mereka hidup dengan cahaya tunjuk agama mereka yang bawa mereka pada masyarakat yang adil toleran masyarakat yang moderat lemah lembut penuh cinta allah ta ala firman yang sikap lemah lembut orang yang mukmin yang sikap tegas orang kafir quran almaidah 54 khutbah dua takwa allah jalla wa ala wasiat takwa ini rupa wasiat allah manusia tam hingga yang paling akhir nanti ibadallah allah juga perintah kita dengan suatu perkara besar bershalat dan beri salam kepada nabi muhammad shallallahu alaihi wa sallam',\n",
       " 'duduk ulama tengah masyarakat antara nikmat allah azza wa jalla besar anugerah allah azza wa jalla jaga agama kita lalu juang agama ikhlas ya tak tak bukan alulama alamil n ulama terus amal ilmu mereka mereka imam jadi panutan pelita lalu gelap jadi singkap sungguh ada sosok jadi garda jaga agama pelihara mulia benteng halang agama musuh mereka cahaya rang umat saat benar tampak samar mata bagi orang mereka waris nabi tengah umat sekaligus jaga agama mereka nabi waris harta limpah waris ilmu barangsiapa ambil arti ambil bagi sangat besar saksi allah azza wa jalla muka bumi aku benar memproklamirkannya khalayak manusia dia allah ilah hak ibadah dia aku dia tegak adil hukum tentang hukum allah azza wa jalla arti salah satu bentuk kezhaliman allah azza wa jalla firman allah nyata bahwasanya tuhan yang hak sembah tegak adil malaikat orang beril juga nyata demikian itu tak tuhan dia yang hak sembah maha perkasa maha bijaksana ali imran 3 18 ulama saksi allah subhanahu wa ta ala muka bumi saksi bahwa rasul benar benar allah azza wa jalla bahwa sampai risalah tunai amanah beri nasihat umat jihad jalan allah benar saksi allah muka bumi jadi saksi laku hukum allah atas makhluk baca paham kitabullah sunnah rasul jadi saksi atas sekali makhluk hukum adil ada dua berita benar dalam ada tengah umat sosok beri nasihat tulus ajar hukum allah beri wejang manusia tuntun umat tuju baik kesalihan mereka pimpin ada baik mereka orang takut allah azza wa jalla allah azza wa jalla firman sungguh takut allah antara hamba hanya ulama fathir 35 28 memang benar ulama orang takut allah azza wa jalla lebih kenal allah subhanahu wa ta ala banding lain tahu janji allah wali ancam allah musuh ilmu manfaat antar mereka kenal allah mereka tahu apa allah cinta ridhai tahu apa benci murka orang lebih tahu lebih kenal allah lebih rasa takut kepada takut bukan jauh justru dekat bertaqarrub mohon rahmat minta lindung mereka para ulama orang paling tahu hal buruk jalan allah firman kemudian allah hina mereka yaitu iman hari kiamat firman di mana sekutu yang bela kamu selalu musuh mereka nabi orang mukmin kata orang telah beri ilmu yaitu para nabi para ulama rabbani sungguh hina azab hari timpa atas orang kafir annahl 16 27 khutbah dua kaum muslimin rahimakumullah itu banyak teks tunjuk utama ilmu ulama antara apa nabi shallallahu alaihi wa salam sabda barangsiapa allah hendak pada baik niscaya allah jadi dia paham agama hr albukhari ibnu majah ahmad malik addarimi beliau shallallahu alaihi wa salam sabda barangsiapa tempuh jalan rangka cari ilmu allah mudah bagi jalan tuju surga sungguh para malaikat benar rendah sayap untuk tuntut ilmu ridha apa ia buat sungguh apa langit bumi benar minta ampun untuk sampai ikan laut hr abu daud atturmudzi umpama ulama muka bumi laksana bintang jadi tanda jalan tengah gelap gulita darat laut bila sinar bintang redup padam para cari jalan mudah sesat sungguh satu orang faqih lebih berat lebih susah syaitan ribu orang ahli ibadah yang kosong ilmu manfaat ahli ibadah batas diri semata orang faqih ia sejati telah jaga agama allah azza wa jalla beri manfaat sama manusia ia tuntun umat tuju baik jalan allah azza wa jalla syaitan seret mereka tuju keburu allah azza wa jalla firman sungguh syaitansyaitan hanya ajak golong mereka jadi huni neraka nyala fathir 35 6 seru orang faqih aja syaitan adalah dua kutub tolak belakang itu syaitan rasa senang wafat para ulama karena mereka adalah musuh berat syaitan apabila utama ada orang alim pantas untuk kerah daya upaya untuk dapat ilmu manfaat hadir majlis ilmu banyak baca tanya ahli cari teliti kita dapat waris para nabi mulia serta mereka negeri akhirat sungguh baik waris adalah para nabi mereka juga baik teman serta bila adalah duduk orang alim tengah umat kita rasa risau duka wafat ulama hilang orang alim bukan hilang sosok diri semata tetapi hilang suatu bagi tinggal nabi hilang satu bagi besar sesuai andil juang alim tinggal sebut demi allah hilang orang alim tidak bisa ganti apa tidak harta lain hilang orang alim adalah musibah besar timpa islam kaum muslimin tidak bisa ganti bila allah azza wa jalla beri mudah dengan datang orang ganti peran kiprah ganti kiprah dahulu juang tolong benar sungguh hilang ulama zaman seperti sekarang ini rupa musibah lipat karena ulama amal ilmu sudah jadi sosok langka di tengah semarak bodoh upaya kabur benar tetapi kita tidak putus asa rahmat allah azza wa jalla sungguh ras lullah n telah abar dengan sabda akan senantiasa ada kelompok umat ada di atas benar menang tidak akan bahaya mereka orang telantar mereka hingga datang perintah allah yaitu jelang hari kiamat mereka ada dalam ada sebut hr muslim atturmudzi abu daud ibnu majah ahmad kita mohon allah dia kenan anugerah kita ilmu manfaat amal shalih agar allah mudah umat ini dalam jaga agama tolong umat taat hina orang durhaka kepada sungguh allah adalah dzat maha murah dan maha asih',\n",
       " 'pimpin sesat ibadallah hidup zaman penuh fitnah guncang banyak kaum muslimin simpang benar benar kembali realita ada orang tokoh ulama komitmen laksana pegang teguh alqur assunnah ajar masyarakat padahal ulama waris nabi orang ganti dakwah ajak umat jalan allah azza wa jalla jelas benar ajar agama ini nabi shallallahu alaihi wa salam sabda sungguh ulama waris nabi nabi waris dinar dirham waris ilmu siapa ambil ilmu arti ambil bagi sempurna dari waris mereka hr abu dawud 3641 dishahihkan alalbani orang ulama apabila shalih ia milik pengaruh kuat umat milik duduk tinggi besar mata mereka pengaruh manusia pengaruh matahari siang hari bulan malam gelap rang jalan orang sesat bodoh jelas semua allah azza wa jalla perintah manusia allah azza wa jalla firman dan ingat allah ambil janji orang beri kitab yaitu hendak kamu terang isi kitab manusia jangan kamu sembunyi ali imran 3 187 nabi shallallahu alaihi wa salam puji sabda beliau shallallahu alaihi wa salam akan panggul ilmu generasi orang baik hapus simpang orang ekstrim ajar usak ta wil orang bodoh hr albaihaqi dishahihkan alalbani shahih misykatul mashabih 248 imam ahmad rahimahullah sifat pimpin tunjuk pengaruh hamba allah subhanahu wa ta ala nyata ulama hidup orang mati hati buat orang buta hati lihat tunjuk hidayah orang sesat alqur berapa banyak korban iblis hidup berapa banyak orang sesat binasa tunjuk arrad alal jahmiyah hlm 55 utama pengaruh ulama besar buat efek buruk besar jalan tugas benar simpang orang ulama buah musibah besar atas kaum muslimin seret banyak kelompok sesat rasulullah shallallahu alaihi wa salam beri ingat besar bahaya pengaruh jelek ulama sesat lebih serta ada kuasa zhalim wenang guna kuasa sesat umat ibadallah rasulullah shallallahu alaihi wa salam orang nabi penuh rahmat beri ingat umat pimpin sesat beberapa hadits antara adalah pertama hadits abu dzar alghifari radhiyallahu anhu riwayat imam ahmad almusnad 21296 abu dzar radhiyallahu anhu kata aku jalan sama rasulullah shallallahu alaihi wa salam lalu beliau sabda sungguh dajjal sangat buat khawatir atas umat beliau sampai tiga kali lalu abu dzar radhiyallahu anhu kata aku tanya wahai rasulullah apa lebih engkau khawatir atas umat dajjal beliau jawab pimpin sesat dua hadits tsauban maula rasulullah riwayat imam abu daud sunan 4252 attirmidzi sunan 2229 beliau kata yang aku takut atas umat hanya pimpin sesat hadits dishahihkan syaikh alalbani shahih abu dawud tiga hadits annuwwaz bin sam radhiyallahu anhu riwayat imam muslim shahihnya 2937 rasulullah shallallahu alaihi wa salam sabda selain dajjal paling aku takut atas kalian apabila keluar ada aku hidup antara kalian aku lah halang kalian bila keluar ada aku ada orang jadi lindung diri sendiri allah khalifah atas muslim empat hadits abu darda radhiyallahu anhu riwayat imam ahmad almusnad 6 411 27525 aththabrani bagaimana almajma azzawa id 5 239 ibnu asakir 19 254 aththayalisi musnadnya 975 beliau radhiyallahu anhu kata rasulullah shallallahu alaihi wa salam pesan sungguh paling aku takut atas kalian pimpin sesat erti hadits tiga mungkin jelas imam annawawi syarh shahih muslim hal nabi shallallahu alaihi wa salam takut atas umat paling hak takut pimpin sesat dajjal paling buat aku takut atas kalian pimpin sesat takut selain dajjal paling takut aku atas kalian pimpin sesat erti hadits pimpin sesat masuk paling nabi shallallahu alaihi wa salam takut atas umat lebih khawatir nabi shallallahu alaihi wa salam atas umat dajjal imam almunawi rahimahullah nyata abul baqqa nyata erti sungguh aku takut atas umat selain dajjal lebih takut dari pimpin sesat ibnul arab nyata nafi hadits nyata fitnah lebih besar fitnah dajjal sabda beliau shallallahu alaihi wa salam sini selain dajjal hanya sampai sahabat beliau takut atas lebih dekat dajjal dekat pasti jadi takut jadi takut lebih hebat jauh kira jadi walaupun lebih hebat siapa ala immah almudhillun itu bahaya pimpin sesat ini rasulullah shallallahu alaihi wa salam sifat sesat ala immah almudhillun asal bahasa arab susun kosa kata ala immah almudhillun syaikhul islam ibnu taimiyah rahimahullah kata ala immah almudhillun kuasa assindi hasyiyah beliau atas sunan ibnu majah 2 465 kata orang ajak orang kebid ahan demikian maksud ala immah almudhillun para pimpin sesat pimpin ikut sesat orang jalan allah masuk para kuasa rusak ulama fajir ahli ibadah bodoh bagaimana ahli kitab ulama fajir halang manusia jalan allah sesat jelas firman allah subhanahu wa ta ala hai orang iman sungguh bagi besar orang alim yahudi rahib nasrani benar makan harta orang jalan batil halang manusia jalan allah orang simpan emas perak nafkah jalan allah beritahukanlah mereka bahwa dapat siksa pedih attaubah 9 34 ada umat islam bagi ulama ahli ibadah ada ahli kitab ini sufyan bin uyainah rahimahullah kata dahulu nyata orang rusak ulama kita ada rupa orang yahudi rusak para ahli ibadah rupa nashrani banyak ulama salaf nyata hati fitnah ulama fajir ahli ibadah bodoh fitnah dua fitnah semua orang fitnah syaikh ibnu utsaimin rahimahullah kata ala immah almudhillin para pimpin sesat para pimpin keburu sungguh benar nabi shallallahu alaihi wa salam sabda paling takut atas umat para pimpin sesat tokoh sekte jahmiyah mu tazilah selain telah jadi pecah umat ini maksud sabda nabi shallallahu alaihi wa salam para pimpin sesat orang pimpin manusia nama syariat paksa manusia kuat kekuasaanya liput kuasa rusak ulama sesat mereka aku ajar syariat allah sangat besar musuh kepada allah subhanahu wa ta ala ibadallah maklum umat islam sama umat lain tidak lepas kelompok orang buat fitnah sesat nabi shallallahu alaihi wa salam sifat sangat bahaya bahaya buat nabi shallallahu alaihi wa salam khawatir umat dari lebih khawatir fitnah dajjal telah jelas haditshadits atas kelompok orang nama ala imah almudhillin para pimpin sesat mereka para pimpin sesat selalu halang umat jalan benar agama seperti sampai allah azza wa jalla firman dan kami jadi pimpin seru manusia neraka alqashash 28 41 rasulullah shallallahu alaihi wa salam sendiri pernah cerita fitnah dajjal sifat fitnah besar timpa manusia sejak cipta adam hingga hari kiamat nanti lalu apa buat fitnah para pimpin sesat lebih besar lebih takut atas umat fitnah dajjal dajjal milik tanda jadi kenal muslim dajjal buta belah tulis antara dua mata kafir baca orang bisa tulis buta huruf bahaya dajjal fitnah walaupun sangat besar tampak kenal mudah kaum mukminin kaum munafikin madharatnya lebih besar bahaya lebih rusak manusia atas nama agama bicara atas nama agama manusia daya tipu pengaruh kemudian ekor yakin ada atas benar hal mebuat kaum muslimin jerumus dalam bingung gelap rusa akibat pimpin sesat baik umara maupun ulama agama kaum muslimin sangat besar sekali bagaimana sampai abdullah bin mubarak rahimahullah aku pandang dosa mati hati candu dosa waris hina tinggal dosa adalah hidup hati lebih baik diri tinggal tidak rusak agama para raja ulama suu para ahli ibadah para kuasa jahat rusak lawan syariat politik jahat dahulu penting atas hukum allah azza wa jalla rasul ulama suu ulama jahat adalah ulama keluar syariat pikir logika rusak isi halal allah azza wa jalla rasul haram haram boleh tetap semua allah azza wa jalla rasul hilang hilang tetap misal adapun para ahli ibadah adalah orang bodoh sufi tentang hakikat iman syariat asa khayal mimpi batil isi pensyariatan tidak izin allah azza wa jalla hilang ajar syariat lalu lisan nabi shallallahu alaihi wa salam ganti hakikat iman tipu syaitan ingin nafsu khutbah dua ibadallah antara cara sesat umat adalah pertama tidak mau amal ilmu para ulama adalah teladan apabila mereka tidak amal ilmu amal selisih ilmu orang teladan amal mereka karena dalil amal lebih kuat dalil ucap karena ada ungkap amal orang pada ribu orang lebih kuat ucap ribu orang orang ulama adalah pimpin orang ikut mereka apabila yang ikut sesat sesat yang ikut ibnul qayyim rahimahullah pernah kata ulama suu duduk pintu surga ajak manusia surga kata mereka ajak mereka ke neraka buat mereka tiap kali ucap kata kepada manusia kemari buat kata jangan dengar mereka anda aja mereka sebut benar pasti mereka orang pertama yang laku mereka bentuk beri tunjuk pada hakekatnya rampok alfawa id 1 61 jelas apabila ulama rusak banyak orang sesat sebab rusa mereka ulama seperti perahu laut apabila tenggelam tenggelam semua yang ada dalam perahu sebut dua diam batil bila orang ulama lihat batil mungkar kembang sebar dia diam tidak ingkar orang bodoh sangka bukan buah batil bukan buah mungkar karena dalam benak orang awam akan muncul erti anda mungkar batil tentu para ulama ingkar paling tidak jelas diam orang alim bisa rancu paham orang bantu sebar batil mungkar rusa juga lemah benar adil padahal allah l telah ambil janji atas ulama jelas benar tidak sembunyi allah firman dan ingat allah ambil janji dari orang yang telah beri kitab yaitu hendak kamu terang isi kitab kepada manusia jangan kamu sembunyi ali imran 3 187 bahaya diam batil ini jelas rasulullah shallallahu alaihi wa salam dalam sabda beliau demi allah yang jiwa ada tangan perintah yang ruf cegah mungkar allah l akan segera kirim hukum atas kalian kemudian kalian doa kepada lalu tidak diijabahi hr attirmidzi 2169 dishahihkan alalbani dalam shahih sunan attirmidzi tiga hias batil ini masuk sarana yang buat kaum muslimin sesat para ulama bicara hias batil dengan ungkap yang indah dan mengatasnamakan agama maka akan banyak orang yang ikut mereka dalam sesat sebut ini buah realita yang banyak jadi di zaman ini moga allah subhanahu wa ta ala lindung semua dari para pimpin yang sesat dan selamat dari sesat mereka wabillahittaufiq',\n",
       " 'dzikir ingat allah kuat jiwa raga sungguh orang mukmin diam gerak aktivitas istirahat semua ada senantiasa butuh cipta dia tolong tempat sandar tempat harap orang hamba rabbani orang hamba tuhan tunduk luluh allah jalla wa ala itu makin kuat hubung orang hamba rabbnya senantiasa taat allah tunjuk jalan lurus allah ilham amal makin kuat tekad makin tambah kuat iman makin kuat pegang agama rasulullah hud alaihissalam kata bimbing kaum dia kata hai kaum mohon ampun tuhan lalu tobat kepada niscaya turun hujan sangat deras atas tambah kuat kuat jangan kamu paling buat dosa quran hud 52 firman dia tambah kuat kuat kaum nabi hud asli orang kuat kata siapa lebih besar kuat quran fussilat 15 nabi hud janji apabila iman allah tambah kuat mereka ayat ini ambil faidah istighfar serta lepas diri dosa rupa tumbuh rezeki tambah wibawa nikmat ibnu katsir rahimahullah kata siapa hias sifat yakni istighfar allah mudah rezeki mudah urus jaga diri kuat fatimah radhiallahu anha minta bantu nabi shallallahu alaihi wa sallam beliau sampai fatimah suami ali bin abu thalib mau tunjuk kalian dua lebih baik kalian dua mintajika kalian hendak tidur ucap tasbih tiga puluh tiga kali tahmid tiga puluh tiga takbir tiga puluh empat kali lebih baik kalian orang layan hr albukhari nabi shallallahu alaihi wa sallam beri bimbing putri fatimah radhiallahu anha berdzikir kuat badan dzikir beliau ajar apabila amal buat orang kuat fatimah mampu kerja lebih banyak apa laku bantu ibnu hajar rahimahullah kata kita bisa ambil ajar sabda beliau mau tunjuk kalian dua lebih baik kalian dua minta siapa lazim berdzikir allah beri orang sebut kuat lebih besar kerja orang bantu untuk mudah urus untuk allah jadi kerja lebih mudah disbanding kerja bisa laku orang bantu asyiral muslimin para wali allah sangat yakin berdzikir rupa sumber kuat mereka sadar ruh lebih butuh asupan banding jasad mereka bahkan materi manfaat makin manfaat kalau kualitas ruh makin baik hati makin gantung allah lisan senantiasa berdzikir ingat allah shahih muslim dapat buah hadits jabir bin samurah nabi shallallahu alaihi wa sallam apabila laku shalat subuh beliau duduk tempat shalatnya hingga matahari mulai naik abul abbas alqurthubi rahimahullah kata buat nabi shallallahu alaihi wa sallam tunjuk anjur usai shalat subuh berdzikir doa hingga terbit matahari waktu sebut waktu larang kerja shalat telah shalat subuh saksi malaikat sibuk aktivitas hari mulai dzikir doa jadi isi kosong hati hadir paham harap doa kabul dzikir dengar alwalid bin muslim rahimahullah kata aku lihat alauza orang ulama tabi berdzikir allah matahari terbit kabar para salaf sahabat demikian tuntun mereka apabila matahari terbit diri sibuk dzikir lain ajar agama ibnul qayyim rahimahullah riwayat guru ibnu taimiyah rahimahullah suatu kali aku temu ibnu taimiyah shalat subuh kemudian duduk berdzikir ingat allah ta ala hingga hampir dekat tengah hari kemudian toleh kepada kata ini asupan gizi anda aku beri asupan diri ini hilang kuat bisa lihat siapa siap diri mulai hari ingat allah hadap diri allah rendah diri penuh tunduk harap kepada bagaimana kualitas hari lewatibagaimana ada semangatnyasementara tahu dzikir dapat kuat jiwa raga bagaimana anda apabilah orang gabung dzikir ucap gera badanseperti laku shalat malam gabung dzikir bahkan gabung banyak bentuk dzikir alquran doa agung allah dll semua ragu tambah kuat fisik jiwa orang tunjuk nabi shallallahu alaihi wa sallam semangat kerja shalat malam ummul mukminin aisyah radhiallahu anha rasulullah shallallahu alaihi wa sallam biasa shalat malam hingga kaki pecah kemudian aisyah kata mengapa laku ini padahal allah telah ampun salah lalu datang rasulullah jawab bukan sepantasanya aku jadi orang hamba syukur muttafaqun alaih sungguh ibadah beri asupan gizi ruh kuat jiwa tata ingin itu heran bagaimana nabi shallallahu alaihi wa sallam hadap bagai macam sulit rintang jalan allah hadap uji ganggu tetapi beliau mampu hadap tipu daya musuh sebut allah ta ala firman dan sungguh tahu dada jadi sempit sebab apa mereka ucap tasbih puji tuhan jadi kamu antara orang sujud shalat quran alhijr 9798 maksud tawakal allah cipta anda sungguh cukup tolong sibuk diri berdzikir allah puji tasbih kepada ibadah kepada tunai shalat itu lanjut allah firman tasbih puji tuhan jadi kamu antara orang sujud shalat quran alhijr 98 nabi shallallahu alaihi wa sallam apabila gundah hadap sesuatu beliau kerja shalat karena shalat besar faktor dorong buat orang teguh islam bagaimana firman allah ta ala baca apa telah wahyu kepada al kitab al quran diri shalat sungguh shalat cegah buat keji mungkar sungguh ingat allah shalat lebih besar utama ibadat lain quran alankabut 45 antara bentuk hibur allah nabi shallallahu alaihi wa sallam beri misal kuat ibadah beliau orang hamba shalih nabi pilih daud alaihissalam allah azza wa jalla firman sabar atas segala apa mereka kata ingat hamba daud punya kuat sungguh dia amat taat kepada tuhan quran shad 17 assa di rahimahullah kata di antara faidah hikmah kisah daud allah ta ala puji cita kuat taat kuat hati badan pengaruh taat banyak laku dapat lemah orang hamba laku usaha wujud ini malas hilang kuat lemah jiwa nabi shallallahu alaihi wa sallam cukup satu pintu jalin hubung allah kuat diri banyak varian lain masalah ini shahih albukhari abu hurairah radhiallahu anhu nabi shallallahu alaihi wa sallam tanya puasa wishal sambung siang malam orang tanya beliau sungguh laku puasa wishal rasulullah beliau jawab siapa antara kalian sepertikusesungguhnya aku tidur malam hari rabku beri makan minum allah sibuk diri renung agung sejuk hati cinta habis waktu munajat kepada terima dari makan minum ibnul qayyim rahimahullah kata terkadang asupan lebih hebat asupan terima jasad ibadallah dzikir rupa pokok ibadah paling mudah laku orang mukmin ada halang orang banyak dzikir hal bentuk amal firman allah hai orang iman berzdikirlah dengan sebut nama allah zikir banyak quran alahzab 41 ibnu athiyah rahimahullah kata allah jadi dzikir tanpa batas mudah hamba besar pahala ibadah ini ayyuhal muslimun sungguh hati milik gizi harus penuh tetap kuat gizi hari iman allah ta ala amal shaleh buat orang hamba tetap mampu milik kuat hati tetap teguh benar sungguh hidup hakiki hidup hati hidup hati sempurna laku amal allah ridhai dapat buah hadits shahih nabi shallallahu alaihi wa sallam sabda umpama orang ingat rabbnya orang ingat rabbnya laksana orang hidup orang mati hr albukhari hati dia hubung allah kembali kepada dapat asupan gizi nikmat hal itu bisa cerna akal pikir orang hamba lalai rabbnya tidak taat hati mati karena itu orang tidak rasa tenang hati pikir tidak nyaman dada asa sempit kalau tidak taat allah dzikir ingat allah rupa ibadah dapat buat hati jadi tenang lahir sabar teguh hilang galau hapus asa sempit asal sibuk pikir dunia khutbah dua buah besar iman hubung allah rasa butuh laksana perintah tunduk kepada realisasi ubudiyah kepada ada senang maupun susah ada lapang maupun sempit kuat hubung allah jadi orang mukmin tunduk allah amal perintah istiqomah atas syariat siapa demikian balas hidup baik itu allah janji orang iman allah ta ala firman barangsiapa kerja amal saleh baik laki maupun perempuan ada iman sungguh kami ikan kepada hidup baik sungguh akan kami beri balas mereka pahala lebih baik apa telah mereka kerja quran annahl 97 sungguh kait orang hamba allah milik hubung baik rabbnya akan tuntun laku amal buat hisab diri atas perkara kecil maupun besar rasa bimbing cipta nilai orang lain orang jalin hubung allah akan mudah terima laku buat baik usaha jalan baik semangat agar tidak luput sesuatu yang manfaat ia sedih sesal sesuatu yang dapat tambah iman sia waktu semangat kuat saudara sekali siapa yang jaga anggota badan apa yang allah haram allah akan tambah kuat kuat ia akan nikmat dalam ibadah ini cita orang mukmin antara doa nabi shallallahu alaihi wa sallam adalah ilah nikmat manfaat kami dengar lihat kuat kami lama engkau hidup kami jadi semua itu bagai waris dari kami nikmat dengar lihat yang sehat hingga wafat makna doa sebut jadi kami orang yang dapat nikmat manfaat dengan dengar lihat seluruh kuat anggota tubuh yang tampak maupun yang tidak seluruh anggota badan kita guna taata allah panjang hidup kita ini makna doa sebut siapa yang jaga batas allah masih muda kuat allah akan jaga saat tua hilang kuat allah akan jaga dengar lihat seluruh anggota badan kuat badan ak']"
      ]
     },
     "execution_count": 7,
     "metadata": {},
     "output_type": "execute_result"
    }
   ],
   "source": [
    "preprocessed_docs = []\n",
    "for dt in data['Dokumen']:\n",
    "    preprocessed_docs.append(preprocess(dt))\n",
    "preprocessed_docs"
   ]
  },
  {
   "cell_type": "code",
   "execution_count": 8,
   "metadata": {
    "scrolled": true
   },
   "outputs": [
    {
     "name": "stderr",
     "output_type": "stream",
     "text": [
      "C:\\Users\\Public\\Anaconda3\\lib\\site-packages\\ipykernel_launcher.py:1: SettingWithCopyWarning: \n",
      "A value is trying to be set on a copy of a slice from a DataFrame.\n",
      "Try using .loc[row_indexer,col_indexer] = value instead\n",
      "\n",
      "See the caveats in the documentation: http://pandas.pydata.org/pandas-docs/stable/indexing.html#indexing-view-versus-copy\n",
      "  \"\"\"Entry point for launching an IPython kernel.\n"
     ]
    }
   ],
   "source": [
    "data[\"preprocessed\"] = preprocessed_docs"
   ]
  },
  {
   "cell_type": "markdown",
   "metadata": {},
   "source": [
    "# Save to excel"
   ]
  },
  {
   "cell_type": "code",
   "execution_count": 9,
   "metadata": {},
   "outputs": [],
   "source": [
    "data.to_excel(\"prepro-dataset.xlsx\", engine=\"xlsxwriter\", index=False)"
   ]
  }
 ],
 "metadata": {
  "kernelspec": {
   "display_name": "Python 3",
   "language": "python",
   "name": "python3"
  },
  "language_info": {
   "codemirror_mode": {
    "name": "ipython",
    "version": 3
   },
   "file_extension": ".py",
   "mimetype": "text/x-python",
   "name": "python",
   "nbconvert_exporter": "python",
   "pygments_lexer": "ipython3",
   "version": "3.7.3"
  }
 },
 "nbformat": 4,
 "nbformat_minor": 2
}
