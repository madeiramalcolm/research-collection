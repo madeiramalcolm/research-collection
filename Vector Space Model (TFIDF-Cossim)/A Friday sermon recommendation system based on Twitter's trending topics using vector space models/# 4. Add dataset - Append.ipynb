{
 "cells": [
  {
   "cell_type": "markdown",
   "metadata": {},
   "source": [
    "# Import Library"
   ]
  },
  {
   "cell_type": "code",
   "execution_count": null,
   "metadata": {},
   "outputs": [],
   "source": [
    "import pandas as pd\n",
    "from openpyxl import load_workbook"
   ]
  },
  {
   "cell_type": "markdown",
   "metadata": {},
   "source": [
    "# Load Dataset asli"
   ]
  },
  {
   "cell_type": "code",
   "execution_count": 2,
   "metadata": {},
   "outputs": [
    {
     "data": {
      "text/html": [
       "<div>\n",
       "<style scoped>\n",
       "    .dataframe tbody tr th:only-of-type {\n",
       "        vertical-align: middle;\n",
       "    }\n",
       "\n",
       "    .dataframe tbody tr th {\n",
       "        vertical-align: top;\n",
       "    }\n",
       "\n",
       "    .dataframe thead th {\n",
       "        text-align: right;\n",
       "    }\n",
       "</style>\n",
       "<table border=\"1\" class=\"dataframe\">\n",
       "  <thead>\n",
       "    <tr style=\"text-align: right;\">\n",
       "      <th></th>\n",
       "      <th>0</th>\n",
       "      <th>1</th>\n",
       "    </tr>\n",
       "  </thead>\n",
       "  <tbody>\n",
       "    <tr>\n",
       "      <th>0</th>\n",
       "      <td>Dokumen</td>\n",
       "      <td>Link</td>\n",
       "    </tr>\n",
       "    <tr>\n",
       "      <th>1</th>\n",
       "      <td>Aku</td>\n",
       "      <td>https://khotbahjumat.com/5254-kekeliruan-dalam...</td>\n",
       "    </tr>\n",
       "    <tr>\n",
       "      <th>2</th>\n",
       "      <td>saya</td>\n",
       "      <td>https://khotbahjumat.com/5254-kekeliruan-dalam...</td>\n",
       "    </tr>\n",
       "    <tr>\n",
       "      <th>3</th>\n",
       "      <td>Kekeliruan</td>\n",
       "      <td>https://khotbahjumat.com/5254-kekeliruan-dalam...</td>\n",
       "    </tr>\n",
       "    <tr>\n",
       "      <th>4</th>\n",
       "      <td>Dalam</td>\n",
       "      <td>https://khotbahjumat.com/5254-kekeliruan-dalam...</td>\n",
       "    </tr>\n",
       "    <tr>\n",
       "      <th>5</th>\n",
       "      <td>Kekeliruan</td>\n",
       "      <td>https://khotbahjumat.com/5254-kekeliruan-dalam...</td>\n",
       "    </tr>\n",
       "    <tr>\n",
       "      <th>6</th>\n",
       "      <td>Dalam</td>\n",
       "      <td>https://khotbahjumat.com/5254-kekeliruan-dalam...</td>\n",
       "    </tr>\n",
       "    <tr>\n",
       "      <th>7</th>\n",
       "      <td>Kekeliruan</td>\n",
       "      <td>https://khotbahjumat.com/5254-kekeliruan-dalam...</td>\n",
       "    </tr>\n",
       "    <tr>\n",
       "      <th>8</th>\n",
       "      <td>Dalam</td>\n",
       "      <td>https://khotbahjumat.com/5254-kekeliruan-dalam...</td>\n",
       "    </tr>\n",
       "  </tbody>\n",
       "</table>\n",
       "</div>"
      ],
      "text/plain": [
       "            0                                                  1\n",
       "0     Dokumen                                               Link\n",
       "1         Aku  https://khotbahjumat.com/5254-kekeliruan-dalam...\n",
       "2        saya  https://khotbahjumat.com/5254-kekeliruan-dalam...\n",
       "3  Kekeliruan  https://khotbahjumat.com/5254-kekeliruan-dalam...\n",
       "4       Dalam  https://khotbahjumat.com/5254-kekeliruan-dalam...\n",
       "5  Kekeliruan  https://khotbahjumat.com/5254-kekeliruan-dalam...\n",
       "6       Dalam  https://khotbahjumat.com/5254-kekeliruan-dalam...\n",
       "7  Kekeliruan  https://khotbahjumat.com/5254-kekeliruan-dalam...\n",
       "8       Dalam  https://khotbahjumat.com/5254-kekeliruan-dalam..."
      ]
     },
     "execution_count": 2,
     "metadata": {},
     "output_type": "execute_result"
    }
   ],
   "source": [
    "wb = load_workbook(filename = 'datasett.xlsx')\n",
    "sheet_ranges = wb['Sheet1']\n",
    "dat = pd.DataFrame(sheet_ranges.values)\n",
    "dat"
   ]
  },
  {
   "cell_type": "code",
   "execution_count": 3,
   "metadata": {},
   "outputs": [],
   "source": [
    "dat.columns = ['Dokumen','Link']\n",
    "data = dat[1:500]"
   ]
  },
  {
   "cell_type": "markdown",
   "metadata": {},
   "source": [
    "# Append dataset asli ke array list asli"
   ]
  },
  {
   "cell_type": "code",
   "execution_count": 4,
   "metadata": {
    "scrolled": true
   },
   "outputs": [
    {
     "name": "stdout",
     "output_type": "stream",
     "text": [
      "['Aku', 'saya', 'Kekeliruan', 'Dalam', 'Kekeliruan', 'Dalam', 'Kekeliruan', 'Dalam']\n",
      "['https://khotbahjumat.com/5254-kekeliruan-dalam-masalah-syarat-sah-shalat.html', 'https://khotbahjumat.com/5254-kekeliruan-dalam-masalah-syarat-sah-shalat.html', 'https://khotbahjumat.com/5254-kekeliruan-dalam-masalah-syarat-sah-shalat.html', 'https://khotbahjumat.com/5254-kekeliruan-dalam-masalah-syarat-sah-shalat.html', 'https://khotbahjumat.com/5254-kekeliruan-dalam-masalah-syarat-sah-shalat.html', 'https://khotbahjumat.com/5254-kekeliruan-dalam-masalah-syarat-sah-shalat.html', 'https://khotbahjumat.com/5254-kekeliruan-dalam-masalah-syarat-sah-shalat.html', 'https://khotbahjumat.com/5254-kekeliruan-dalam-masalah-syarat-sah-shalat.html']\n"
     ]
    }
   ],
   "source": [
    "asli = []\n",
    "for dt in data['Dokumen']:\n",
    "    asli.append(''.join(dt))\n",
    "print(asli)\n",
    "\n",
    "asli1 = []\n",
    "for dt1 in data['Link']:\n",
    "    asli1.append(''.join(dt1))\n",
    "print(asli1)"
   ]
  },
  {
   "cell_type": "markdown",
   "metadata": {},
   "source": [
    "# Load Dataset Baru"
   ]
  },
  {
   "cell_type": "code",
   "execution_count": 5,
   "metadata": {
    "scrolled": true
   },
   "outputs": [
    {
     "data": {
      "text/html": [
       "<div>\n",
       "<style scoped>\n",
       "    .dataframe tbody tr th:only-of-type {\n",
       "        vertical-align: middle;\n",
       "    }\n",
       "\n",
       "    .dataframe tbody tr th {\n",
       "        vertical-align: top;\n",
       "    }\n",
       "\n",
       "    .dataframe thead th {\n",
       "        text-align: right;\n",
       "    }\n",
       "</style>\n",
       "<table border=\"1\" class=\"dataframe\">\n",
       "  <thead>\n",
       "    <tr style=\"text-align: right;\">\n",
       "      <th></th>\n",
       "      <th>0</th>\n",
       "      <th>1</th>\n",
       "    </tr>\n",
       "  </thead>\n",
       "  <tbody>\n",
       "    <tr>\n",
       "      <th>0</th>\n",
       "      <td>Kekeliruan</td>\n",
       "      <td>https://khotbahjumat.com/5254-kekeliruan-dalam...</td>\n",
       "    </tr>\n",
       "    <tr>\n",
       "      <th>1</th>\n",
       "      <td>Dalam</td>\n",
       "      <td>https://khotbahjumat.com/5254-kekeliruan-dalam...</td>\n",
       "    </tr>\n",
       "  </tbody>\n",
       "</table>\n",
       "</div>"
      ],
      "text/plain": [
       "            0                                                  1\n",
       "0  Kekeliruan  https://khotbahjumat.com/5254-kekeliruan-dalam...\n",
       "1       Dalam  https://khotbahjumat.com/5254-kekeliruan-dalam..."
      ]
     },
     "execution_count": 5,
     "metadata": {},
     "output_type": "execute_result"
    }
   ],
   "source": [
    "workb = load_workbook(filename='datasettt.xlsx')\n",
    "sheet_ranges1 = workb['Sheet1']\n",
    "data2 = pd.DataFrame(sheet_ranges1.values)\n",
    "data2"
   ]
  },
  {
   "cell_type": "markdown",
   "metadata": {},
   "source": [
    "# Append dataset baru ke array list rows"
   ]
  },
  {
   "cell_type": "code",
   "execution_count": 6,
   "metadata": {},
   "outputs": [
    {
     "name": "stdout",
     "output_type": "stream",
     "text": [
      "['Kekeliruan', 'Dalam']\n",
      "['https://khotbahjumat.com/5254-kekeliruan-dalam-masalah-syarat-sah-shalat.html', 'https://khotbahjumat.com/5254-kekeliruan-dalam-masalah-syarat-sah-shalat.html']\n"
     ]
    }
   ],
   "source": [
    "data2.columns = ['Dokumen','Link']\n",
    "\n",
    "rows = []\n",
    "for d in data2['Dokumen']:\n",
    "    rows.append(''.join(d))\n",
    "print(rows)\n",
    "\n",
    "rows1 = []\n",
    "for d1 in data2['Link']:\n",
    "    rows1.append(''.join(d1))\n",
    "print(rows1)"
   ]
  },
  {
   "cell_type": "markdown",
   "metadata": {},
   "source": [
    "# Append array list dataset asli (asli) dengan dataset baru (rows)"
   ]
  },
  {
   "cell_type": "code",
   "execution_count": 7,
   "metadata": {
    "scrolled": false
   },
   "outputs": [
    {
     "name": "stdout",
     "output_type": "stream",
     "text": [
      "['Aku', 'saya', 'Kekeliruan', 'Dalam', 'Kekeliruan', 'Dalam', 'Kekeliruan', 'Dalam', 'Kekeliruan', 'Dalam']\n",
      "['https://khotbahjumat.com/5254-kekeliruan-dalam-masalah-syarat-sah-shalat.html', 'https://khotbahjumat.com/5254-kekeliruan-dalam-masalah-syarat-sah-shalat.html', 'https://khotbahjumat.com/5254-kekeliruan-dalam-masalah-syarat-sah-shalat.html', 'https://khotbahjumat.com/5254-kekeliruan-dalam-masalah-syarat-sah-shalat.html', 'https://khotbahjumat.com/5254-kekeliruan-dalam-masalah-syarat-sah-shalat.html', 'https://khotbahjumat.com/5254-kekeliruan-dalam-masalah-syarat-sah-shalat.html', 'https://khotbahjumat.com/5254-kekeliruan-dalam-masalah-syarat-sah-shalat.html', 'https://khotbahjumat.com/5254-kekeliruan-dalam-masalah-syarat-sah-shalat.html', 'https://khotbahjumat.com/5254-kekeliruan-dalam-masalah-syarat-sah-shalat.html', 'https://khotbahjumat.com/5254-kekeliruan-dalam-masalah-syarat-sah-shalat.html']\n"
     ]
    }
   ],
   "source": [
    "for row in rows:\n",
    "    asli.append(''.join(row))\n",
    "print(asli)\n",
    "\n",
    "for row1 in rows1:\n",
    "    asli1.append(''.join(row1))\n",
    "print(asli1)"
   ]
  },
  {
   "cell_type": "code",
   "execution_count": 8,
   "metadata": {},
   "outputs": [],
   "source": [
    "dataset = pd.read_excel(\"datasetsemua.xlsx\")"
   ]
  },
  {
   "cell_type": "code",
   "execution_count": 9,
   "metadata": {},
   "outputs": [],
   "source": [
    "dataset['Dokumen'] = asli\n",
    "dataset['Link'] = asli1"
   ]
  },
  {
   "cell_type": "code",
   "execution_count": 10,
   "metadata": {},
   "outputs": [],
   "source": [
    "dataset.to_excel(\"datasetsemua.xlsx\", engine=\"xlsxwriter\", index=False)"
   ]
  }
 ],
 "metadata": {
  "kernelspec": {
   "display_name": "Python 3",
   "language": "python",
   "name": "python3"
  },
  "language_info": {
   "codemirror_mode": {
    "name": "ipython",
    "version": 3
   },
   "file_extension": ".py",
   "mimetype": "text/x-python",
   "name": "python",
   "nbconvert_exporter": "python",
   "pygments_lexer": "ipython3",
   "version": "3.7.3"
  }
 },
 "nbformat": 4,
 "nbformat_minor": 2
}
